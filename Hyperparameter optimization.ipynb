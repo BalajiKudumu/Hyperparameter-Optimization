{
 "cells": [
  {
   "cell_type": "code",
   "execution_count": 1,
   "metadata": {},
   "outputs": [],
   "source": [
    "import pandas as pd\n",
    "import numpy as np"
   ]
  },
  {
   "cell_type": "code",
   "execution_count": 2,
   "metadata": {
    "scrolled": true
   },
   "outputs": [
    {
     "data": {
      "text/html": [
       "<div>\n",
       "<style scoped>\n",
       "    .dataframe tbody tr th:only-of-type {\n",
       "        vertical-align: middle;\n",
       "    }\n",
       "\n",
       "    .dataframe tbody tr th {\n",
       "        vertical-align: top;\n",
       "    }\n",
       "\n",
       "    .dataframe thead th {\n",
       "        text-align: right;\n",
       "    }\n",
       "</style>\n",
       "<table border=\"1\" class=\"dataframe\">\n",
       "  <thead>\n",
       "    <tr style=\"text-align: right;\">\n",
       "      <th></th>\n",
       "      <th>Pregnancies</th>\n",
       "      <th>Glucose</th>\n",
       "      <th>BloodPressure</th>\n",
       "      <th>SkinThickness</th>\n",
       "      <th>Insulin</th>\n",
       "      <th>BMI</th>\n",
       "      <th>DiabetesPedigreeFunction</th>\n",
       "      <th>Age</th>\n",
       "      <th>Outcome</th>\n",
       "    </tr>\n",
       "  </thead>\n",
       "  <tbody>\n",
       "    <tr>\n",
       "      <th>0</th>\n",
       "      <td>6</td>\n",
       "      <td>148</td>\n",
       "      <td>72</td>\n",
       "      <td>35</td>\n",
       "      <td>0</td>\n",
       "      <td>33.6</td>\n",
       "      <td>0.627</td>\n",
       "      <td>50</td>\n",
       "      <td>1</td>\n",
       "    </tr>\n",
       "    <tr>\n",
       "      <th>1</th>\n",
       "      <td>1</td>\n",
       "      <td>85</td>\n",
       "      <td>66</td>\n",
       "      <td>29</td>\n",
       "      <td>0</td>\n",
       "      <td>26.6</td>\n",
       "      <td>0.351</td>\n",
       "      <td>31</td>\n",
       "      <td>0</td>\n",
       "    </tr>\n",
       "    <tr>\n",
       "      <th>2</th>\n",
       "      <td>8</td>\n",
       "      <td>183</td>\n",
       "      <td>64</td>\n",
       "      <td>0</td>\n",
       "      <td>0</td>\n",
       "      <td>23.3</td>\n",
       "      <td>0.672</td>\n",
       "      <td>32</td>\n",
       "      <td>1</td>\n",
       "    </tr>\n",
       "    <tr>\n",
       "      <th>3</th>\n",
       "      <td>1</td>\n",
       "      <td>89</td>\n",
       "      <td>66</td>\n",
       "      <td>23</td>\n",
       "      <td>94</td>\n",
       "      <td>28.1</td>\n",
       "      <td>0.167</td>\n",
       "      <td>21</td>\n",
       "      <td>0</td>\n",
       "    </tr>\n",
       "    <tr>\n",
       "      <th>4</th>\n",
       "      <td>0</td>\n",
       "      <td>137</td>\n",
       "      <td>40</td>\n",
       "      <td>35</td>\n",
       "      <td>168</td>\n",
       "      <td>43.1</td>\n",
       "      <td>2.288</td>\n",
       "      <td>33</td>\n",
       "      <td>1</td>\n",
       "    </tr>\n",
       "  </tbody>\n",
       "</table>\n",
       "</div>"
      ],
      "text/plain": [
       "   Pregnancies  Glucose  BloodPressure  SkinThickness  Insulin   BMI  \\\n",
       "0            6      148             72             35        0  33.6   \n",
       "1            1       85             66             29        0  26.6   \n",
       "2            8      183             64              0        0  23.3   \n",
       "3            1       89             66             23       94  28.1   \n",
       "4            0      137             40             35      168  43.1   \n",
       "\n",
       "   DiabetesPedigreeFunction  Age  Outcome  \n",
       "0                     0.627   50        1  \n",
       "1                     0.351   31        0  \n",
       "2                     0.672   32        1  \n",
       "3                     0.167   21        0  \n",
       "4                     2.288   33        1  "
      ]
     },
     "execution_count": 2,
     "metadata": {},
     "output_type": "execute_result"
    }
   ],
   "source": [
    "df=pd.read_csv(\"diabetes.csv\")\n",
    "df.head()"
   ]
  },
  {
   "cell_type": "code",
   "execution_count": 3,
   "metadata": {},
   "outputs": [],
   "source": [
    "def check_zeros(df,feature):\n",
    "    print((df[feature]==0).sum())\n",
    "    "
   ]
  },
  {
   "cell_type": "code",
   "execution_count": 4,
   "metadata": {},
   "outputs": [
    {
     "name": "stdout",
     "output_type": "stream",
     "text": [
      "227\n"
     ]
    }
   ],
   "source": [
    "check_zeros(df,'SkinThickness')"
   ]
  },
  {
   "cell_type": "code",
   "execution_count": 5,
   "metadata": {},
   "outputs": [],
   "source": [
    "def replace_zeros(df,feature):\n",
    "    df[feature]=np.where(df[feature]==0,df[feature].median(),df[feature])"
   ]
  },
  {
   "cell_type": "code",
   "execution_count": 6,
   "metadata": {},
   "outputs": [],
   "source": [
    "replace_zeros(df,'Glucose')\n",
    "replace_zeros(df,'Insulin')\n",
    "replace_zeros(df,\"SkinThickness\")"
   ]
  },
  {
   "cell_type": "code",
   "execution_count": 7,
   "metadata": {},
   "outputs": [
    {
     "name": "stdout",
     "output_type": "stream",
     "text": [
      "0\n"
     ]
    }
   ],
   "source": [
    "check_zeros(df,'SkinThickness')"
   ]
  },
  {
   "cell_type": "code",
   "execution_count": 8,
   "metadata": {},
   "outputs": [],
   "source": [
    "x=df.drop('Outcome',axis=1)\n",
    "y=df['Outcome']"
   ]
  },
  {
   "cell_type": "code",
   "execution_count": 9,
   "metadata": {},
   "outputs": [],
   "source": [
    "from sklearn.model_selection import train_test_split\n",
    "x_train,x_test,y_train,y_test=train_test_split(x,y,test_size=0.20,random_state=0)"
   ]
  },
  {
   "cell_type": "code",
   "execution_count": 11,
   "metadata": {},
   "outputs": [],
   "source": [
    "from sklearn.ensemble import RandomForestClassifier\n",
    "rf_classif=RandomForestClassifier(n_estimators=10,random_state=10)\n",
    "rf_classif.fit(x_train,y_train)\n",
    "prediction=rf_classif.predict(x_test)"
   ]
  },
  {
   "cell_type": "code",
   "execution_count": 12,
   "metadata": {},
   "outputs": [
    {
     "name": "stdout",
     "output_type": "stream",
     "text": [
      "[[91 16]\n",
      " [16 31]]\n",
      "0.7922077922077922\n",
      "              precision    recall  f1-score   support\n",
      "\n",
      "           0       0.85      0.85      0.85       107\n",
      "           1       0.66      0.66      0.66        47\n",
      "\n",
      "    accuracy                           0.79       154\n",
      "   macro avg       0.76      0.76      0.76       154\n",
      "weighted avg       0.79      0.79      0.79       154\n",
      "\n"
     ]
    }
   ],
   "source": [
    "from sklearn.metrics import confusion_matrix,accuracy_score,classification_report\n",
    "print(confusion_matrix(y_test,prediction))\n",
    "print(accuracy_score(y_test,prediction))\n",
    "print(classification_report(y_test,prediction))"
   ]
  },
  {
   "cell_type": "markdown",
   "metadata": {},
   "source": [
    "The important parameters Randomforest classifier:\n",
    "1. n_estimators = no.of trees in a ensemble.\n",
    "2. min_samples_split = min no.of samples necessary in a node to cause node splitting.\n",
    "3. min_samples_leaf = min no.of samples which can be stored in tree leaf\n",
    "4. creterion= used to evaluate the quality of a split.\n",
    "5. max_depth= max no.of levels allowed in each tree.\n",
    "6. max_features = max no.of features considered when a spliting a node."
   ]
  },
  {
   "cell_type": "markdown",
   "metadata": {},
   "source": [
    "###### manual hyper parameter tuning"
   ]
  },
  {
   "cell_type": "code",
   "execution_count": 13,
   "metadata": {},
   "outputs": [],
   "source": [
    "from sklearn.ensemble import RandomForestClassifier\n",
    "rf_classif=RandomForestClassifier(n_estimators=350,criterion=\"entropy\",max_features=\"sqrt\",min_samples_leaf=10,random_state=100)\n",
    "rf_classif.fit(x_train,y_train)\n",
    "prediction=rf_classif.predict(x_test)"
   ]
  },
  {
   "cell_type": "code",
   "execution_count": 14,
   "metadata": {},
   "outputs": [
    {
     "name": "stdout",
     "output_type": "stream",
     "text": [
      "[[97 10]\n",
      " [18 29]]\n",
      "0.8181818181818182\n",
      "              precision    recall  f1-score   support\n",
      "\n",
      "           0       0.84      0.91      0.87       107\n",
      "           1       0.74      0.62      0.67        47\n",
      "\n",
      "    accuracy                           0.82       154\n",
      "   macro avg       0.79      0.76      0.77       154\n",
      "weighted avg       0.81      0.82      0.81       154\n",
      "\n"
     ]
    }
   ],
   "source": [
    "from sklearn.metrics import confusion_matrix,accuracy_score,classification_report\n",
    "print(confusion_matrix(y_test,prediction))\n",
    "print(accuracy_score(y_test,prediction))\n",
    "print(classification_report(y_test,prediction))"
   ]
  },
  {
   "cell_type": "markdown",
   "metadata": {},
   "source": [
    "###### Randomized searchCV"
   ]
  },
  {
   "cell_type": "code",
   "execution_count": 16,
   "metadata": {},
   "outputs": [
    {
     "data": {
      "text/plain": [
       "[10, 175, 341, 506, 672, 837, 1003, 1168, 1334, 1500]"
      ]
     },
     "execution_count": 16,
     "metadata": {},
     "output_type": "execute_result"
    }
   ],
   "source": [
    "max_depth=[int(x)for x in np.linspace(start=10,stop=1500,num=10)]\n",
    "max_depth"
   ]
  },
  {
   "cell_type": "code",
   "execution_count": 17,
   "metadata": {
    "scrolled": true
   },
   "outputs": [
    {
     "data": {
      "text/plain": [
       "{'n_estimators': [100,\n",
       "  200,\n",
       "  200,\n",
       "  400,\n",
       "  500,\n",
       "  600,\n",
       "  700,\n",
       "  800,\n",
       "  900,\n",
       "  1000,\n",
       "  1100,\n",
       "  1200,\n",
       "  1300,\n",
       "  1400,\n",
       "  1500],\n",
       " 'min_samples_split': [1, 2, 3, 4, 5, 6],\n",
       " 'min_samples_leaf': [2, 3, 5, 6, 7],\n",
       " 'max_features': ['auto', 'sqrt', 'log2'],\n",
       " 'max_depth': [10, 175, 341, 506, 672, 837, 1003, 1168, 1334, 1500],\n",
       " 'criterion': ['entropy', 'gini']}"
      ]
     },
     "execution_count": 17,
     "metadata": {},
     "output_type": "execute_result"
    }
   ],
   "source": [
    "random_grid={\"n_estimators\":[100,200,200,400,500,600,700,800,900,1000,1100,1200,1300,1400,1500],\n",
    "             'min_samples_split':[1,2,3,4,5,6],\n",
    "             'min_samples_leaf':[2,3,5,6,7],\n",
    "             'max_features':['auto','sqrt','log2'],\n",
    "             'max_depth':max_depth,\n",
    "             'criterion':[\"entropy\",'gini']\n",
    "}\n",
    "random_grid"
   ]
  },
  {
   "cell_type": "code",
   "execution_count": 12,
   "metadata": {},
   "outputs": [],
   "source": [
    "from sklearn.model_selection import RandomizedSearchCV"
   ]
  },
  {
   "cell_type": "code",
   "execution_count": 19,
   "metadata": {},
   "outputs": [
    {
     "name": "stdout",
     "output_type": "stream",
     "text": [
      "Fitting 3 folds for each of 200 candidates, totalling 600 fits\n"
     ]
    },
    {
     "name": "stderr",
     "output_type": "stream",
     "text": [
      "[Parallel(n_jobs=-1)]: Using backend LokyBackend with 4 concurrent workers.\n",
      "[Parallel(n_jobs=-1)]: Done  33 tasks      | elapsed:   42.6s\n",
      "[Parallel(n_jobs=-1)]: Done 154 tasks      | elapsed:  2.7min\n",
      "[Parallel(n_jobs=-1)]: Done 357 tasks      | elapsed:  5.8min\n",
      "[Parallel(n_jobs=-1)]: Done 600 out of 600 | elapsed: 10.3min finished\n"
     ]
    },
    {
     "data": {
      "text/plain": [
       "RandomizedSearchCV(cv=3, estimator=RandomForestClassifier(), n_iter=200,\n",
       "                   n_jobs=-1,\n",
       "                   param_distributions={'criterion': ['entropy', 'gini'],\n",
       "                                        'max_depth': [10, 175, 341, 506, 672,\n",
       "                                                      837, 1003, 1168, 1334,\n",
       "                                                      1500],\n",
       "                                        'max_features': ['auto', 'sqrt',\n",
       "                                                         'log2'],\n",
       "                                        'min_samples_leaf': [2, 3, 5, 6, 7],\n",
       "                                        'min_samples_split': [1, 2, 3, 4, 5, 6],\n",
       "                                        'n_estimators': [100, 200, 200, 400,\n",
       "                                                         500, 600, 700, 800,\n",
       "                                                         900, 1000, 1100, 1200,\n",
       "                                                         1300, 1400, 1500]},\n",
       "                   random_state=34, verbose=2)"
      ]
     },
     "execution_count": 19,
     "metadata": {},
     "output_type": "execute_result"
    }
   ],
   "source": [
    "rf=RandomForestClassifier()\n",
    "rf_searchcv=RandomizedSearchCV(estimator=rf,param_distributions=random_grid,n_iter=200,\n",
    "                              cv=3,verbose=2,random_state=34,n_jobs=-1)\n",
    "rf_searchcv.fit(x_train,y_train)"
   ]
  },
  {
   "cell_type": "code",
   "execution_count": 20,
   "metadata": {},
   "outputs": [
    {
     "data": {
      "text/plain": [
       "{'n_estimators': 100,\n",
       " 'min_samples_split': 2,\n",
       " 'min_samples_leaf': 3,\n",
       " 'max_features': 'sqrt',\n",
       " 'max_depth': 1334,\n",
       " 'criterion': 'gini'}"
      ]
     },
     "execution_count": 20,
     "metadata": {},
     "output_type": "execute_result"
    }
   ],
   "source": [
    "rf_searchcv.best_params_"
   ]
  },
  {
   "cell_type": "code",
   "execution_count": 21,
   "metadata": {},
   "outputs": [
    {
     "data": {
      "text/plain": [
       "RandomForestClassifier(max_depth=1334, max_features='sqrt', min_samples_leaf=3)"
      ]
     },
     "execution_count": 21,
     "metadata": {},
     "output_type": "execute_result"
    }
   ],
   "source": [
    "rf_searchcv.best_estimator_"
   ]
  },
  {
   "cell_type": "code",
   "execution_count": 22,
   "metadata": {},
   "outputs": [
    {
     "name": "stdout",
     "output_type": "stream",
     "text": [
      "[[95 12]\n",
      " [19 28]]\n",
      "              precision    recall  f1-score   support\n",
      "\n",
      "           0       0.83      0.89      0.86       107\n",
      "           1       0.70      0.60      0.64        47\n",
      "\n",
      "    accuracy                           0.80       154\n",
      "   macro avg       0.77      0.74      0.75       154\n",
      "weighted avg       0.79      0.80      0.79       154\n",
      "\n",
      "0.7987012987012987\n"
     ]
    }
   ],
   "source": [
    "best_randomized=rf_searchcv.best_estimator_\n",
    "y_prediction=best_randomized.predict(x_test)\n",
    "print(confusion_matrix(y_test,y_prediction))\n",
    "print(classification_report(y_test,y_prediction))\n",
    "print(accuracy_score(y_test,y_prediction))"
   ]
  },
  {
   "cell_type": "markdown",
   "metadata": {},
   "source": [
    "##### Grid Searchcv"
   ]
  },
  {
   "cell_type": "code",
   "execution_count": 76,
   "metadata": {},
   "outputs": [
    {
     "data": {
      "text/plain": [
       "{'n_estimators': 100,\n",
       " 'min_samples_split': 2,\n",
       " 'min_samples_leaf': 2,\n",
       " 'max_features': 'sqrt',\n",
       " 'max_depth': 10,\n",
       " 'criterion': 'gini'}"
      ]
     },
     "execution_count": 76,
     "metadata": {},
     "output_type": "execute_result"
    }
   ],
   "source": [
    "rf_searchcv.best_params_"
   ]
  },
  {
   "cell_type": "code",
   "execution_count": 104,
   "metadata": {},
   "outputs": [
    {
     "data": {
      "text/plain": [
       "{'n_estimators': [100, 300, 400, 500],\n",
       " 'min_samples_split': [2, 4, 6],\n",
       " 'min_samples_leaf': [2, 4, 6],\n",
       " 'max_features': ['sqrt'],\n",
       " 'max_depth': [10],\n",
       " 'criterion': ['gini']}"
      ]
     },
     "execution_count": 104,
     "metadata": {},
     "output_type": "execute_result"
    }
   ],
   "source": [
    "# creating grid\n",
    "grid_={'n_estimators':[rf_searchcv.best_params_['n_estimators'],\n",
    "                       rf_searchcv.best_params_['n_estimators']+200,\n",
    "                       rf_searchcv.best_params_['n_estimators']+300,\n",
    "                       rf_searchcv.best_params_['n_estimators']+400],\n",
    "       \n",
    " 'min_samples_split': [rf_searchcv.best_params_['min_samples_split'],\n",
    "                       rf_searchcv.best_params_['min_samples_split']+2,\n",
    "                       rf_searchcv.best_params_['min_samples_split']+4],\n",
    " 'min_samples_leaf':[rf_searchcv.best_params_['min_samples_leaf'],\n",
    "                       rf_searchcv.best_params_['min_samples_leaf']+2,\n",
    "                       rf_searchcv.best_params_['min_samples_leaf']+4],\n",
    "       \n",
    " 'max_features':[rf_searchcv.best_params_['max_features']],\n",
    " 'max_depth':[rf_searchcv.best_params_['max_depth']] ,\n",
    " 'criterion': [rf_searchcv.best_params_['criterion']]}\n",
    "grid_"
   ]
  },
  {
   "cell_type": "code",
   "execution_count": 105,
   "metadata": {},
   "outputs": [],
   "source": [
    "from sklearn.model_selection import GridSearchCV"
   ]
  },
  {
   "cell_type": "code",
   "execution_count": 106,
   "metadata": {},
   "outputs": [
    {
     "name": "stdout",
     "output_type": "stream",
     "text": [
      "Fitting 5 folds for each of 36 candidates, totalling 180 fits\n"
     ]
    },
    {
     "name": "stderr",
     "output_type": "stream",
     "text": [
      "[Parallel(n_jobs=-1)]: Using backend LokyBackend with 4 concurrent workers.\n",
      "[Parallel(n_jobs=-1)]: Done  33 tasks      | elapsed:   13.7s\n",
      "[Parallel(n_jobs=-1)]: Done 154 tasks      | elapsed:  1.1min\n",
      "[Parallel(n_jobs=-1)]: Done 180 out of 180 | elapsed:  1.3min finished\n"
     ]
    },
    {
     "data": {
      "text/plain": [
       "GridSearchCV(cv=5, estimator=RandomForestClassifier(), n_jobs=-1,\n",
       "             param_grid={'criterion': ['gini'], 'max_depth': [10],\n",
       "                         'max_features': ['sqrt'],\n",
       "                         'min_samples_leaf': [2, 4, 6],\n",
       "                         'min_samples_split': [2, 4, 6],\n",
       "                         'n_estimators': [100, 300, 400, 500]},\n",
       "             verbose=2)"
      ]
     },
     "execution_count": 106,
     "metadata": {},
     "output_type": "execute_result"
    }
   ],
   "source": [
    "rf=RandomForestClassifier()\n",
    "grid_cv=GridSearchCV(estimator=rf,param_grid=grid_,cv=5,n_jobs=-1,verbose=2)\n",
    "grid_cv.fit(x_train,y_train)\n"
   ]
  },
  {
   "cell_type": "code",
   "execution_count": 97,
   "metadata": {},
   "outputs": [
    {
     "data": {
      "text/plain": [
       "{'criterion': 'gini',\n",
       " 'max_depth': 10,\n",
       " 'max_features': 'sqrt',\n",
       " 'min_samples_leaf': 4,\n",
       " 'min_samples_split': 4,\n",
       " 'n_estimators': 400}"
      ]
     },
     "execution_count": 97,
     "metadata": {},
     "output_type": "execute_result"
    }
   ],
   "source": [
    "grid_cv.best_params_"
   ]
  },
  {
   "cell_type": "code",
   "execution_count": 98,
   "metadata": {},
   "outputs": [
    {
     "data": {
      "text/plain": [
       "RandomForestClassifier(max_depth=10, max_features='sqrt', min_samples_leaf=4,\n",
       "                       min_samples_split=4, n_estimators=400)"
      ]
     },
     "execution_count": 98,
     "metadata": {},
     "output_type": "execute_result"
    }
   ],
   "source": [
    "grid_cv.best_estimator_"
   ]
  },
  {
   "cell_type": "code",
   "execution_count": 100,
   "metadata": {},
   "outputs": [
    {
     "name": "stdout",
     "output_type": "stream",
     "text": [
      "[[96 11]\n",
      " [18 29]]\n",
      "              precision    recall  f1-score   support\n",
      "\n",
      "           0       0.84      0.90      0.87       107\n",
      "           1       0.72      0.62      0.67        47\n",
      "\n",
      "    accuracy                           0.81       154\n",
      "   macro avg       0.78      0.76      0.77       154\n",
      "weighted avg       0.81      0.81      0.81       154\n",
      "\n",
      "0.8116883116883117\n"
     ]
    }
   ],
   "source": [
    "best_gridsearchcv=grid_cv.best_estimator_\n",
    "y_prediction=best_gridsearchcv.predict(x_test)\n",
    "print(confusion_matrix(y_test,y_prediction))\n",
    "print(classification_report(y_test,y_prediction))\n",
    "print(accuracy_score(y_test,y_prediction))"
   ]
  },
  {
   "cell_type": "markdown",
   "metadata": {},
   "source": [
    "## Automated Hyper Parameter tuning :\n",
    "It can be done using:\n",
    "1. Bayesian Optimization\n",
    "2. Gradient Descent\n",
    "3. Evolutionary Algorithms"
   ]
  },
  {
   "cell_type": "markdown",
   "metadata": {},
   "source": [
    "1. Bayesian Optimization:\n",
    "it is implemented using  3 parameters in fmin--objective function, domain space, optimization algorithm"
   ]
  },
  {
   "cell_type": "code",
   "execution_count": null,
   "metadata": {},
   "outputs": [],
   "source": []
  },
  {
   "cell_type": "code",
   "execution_count": 48,
   "metadata": {},
   "outputs": [],
   "source": [
    "from hyperopt import hp,fmin,tpe,STATUS_OK,Trials"
   ]
  },
  {
   "cell_type": "code",
   "execution_count": 49,
   "metadata": {},
   "outputs": [],
   "source": [
    "domain_space={\"criterion\":hp.choice('criterion',['entropy','gini']),\n",
    "              \"max_depth\":hp.quniform(\"max_depth\",10,1200,10),\n",
    "              \"min_samples_leaf\":hp.uniform(\"min_samples_leaf\",0,0.5),\n",
    "              \"min_samples_split\":hp.uniform(\"min_samples_split\",0,1),\n",
    "              \"n_estimators\":hp.choice(\"n_estimators\",[50,100,150,200,250,300,350,400,450,500]),\n",
    "              \"max_features\":hp.choice(\"max_features\",['auto','sqrt','log2'])\n",
    "    \n",
    "}"
   ]
  },
  {
   "cell_type": "code",
   "execution_count": 54,
   "metadata": {},
   "outputs": [
    {
     "data": {
      "text/plain": [
       "<hyperopt.pyll.base.Apply at 0x203f3cc74c0>"
      ]
     },
     "execution_count": 54,
     "metadata": {},
     "output_type": "execute_result"
    }
   ],
   "source": [
    "domain_space['criterion']"
   ]
  },
  {
   "cell_type": "code",
   "execution_count": 51,
   "metadata": {},
   "outputs": [],
   "source": [
    "from sklearn.model_selection import cross_val_score"
   ]
  },
  {
   "cell_type": "code",
   "execution_count": 60,
   "metadata": {},
   "outputs": [],
   "source": [
    "def objective_function(space):\n",
    "    model=RandomForestClassifier(n_estimators=space['n_estimators'],\n",
    "                                 criterion=space['criterion'],\n",
    "                                 max_depth=space['max_depth'],\n",
    "                                max_features=space['max_features'],\n",
    "                                min_samples_leaf=space['min_samples_leaf'],\n",
    "                                min_samples_split=space['min_samples_split'],\n",
    "                                )\n",
    "    accuracy=cross_val_score(model,x_train,y_train,cv=4).mean()\n",
    "    return {\"loss\":-accuracy,'status':STATUS_OK}"
   ]
  },
  {
   "cell_type": "code",
   "execution_count": 61,
   "metadata": {},
   "outputs": [
    {
     "name": "stdout",
     "output_type": "stream",
     "text": [
      "100%|███████████████████████████████████████████████| 80/80 [02:53<00:00,  2.17s/trial, best loss: -0.7638358373652492]\n"
     ]
    },
    {
     "data": {
      "text/plain": [
       "{'criterion': 1,\n",
       " 'max_depth': 600.0,\n",
       " 'max_features': 2,\n",
       " 'min_samples_leaf': 0.00042630911961526186,\n",
       " 'min_samples_split': 0.13477064060209237,\n",
       " 'n_estimators': 3}"
      ]
     },
     "execution_count": 61,
     "metadata": {},
     "output_type": "execute_result"
    }
   ],
   "source": [
    "from sklearn.model_selection import cross_val_score\n",
    "trials=Trials()\n",
    "best=fmin(fn=objective_function,space=domain_space,\n",
    "         algo=tpe.suggest,max_evals=80,\n",
    "         trials=trials)\n",
    "best"
   ]
  },
  {
   "cell_type": "code",
   "execution_count": 70,
   "metadata": {},
   "outputs": [
    {
     "name": "stdout",
     "output_type": "stream",
     "text": [
      "gini\n",
      "200\n",
      "log2\n"
     ]
    }
   ],
   "source": [
    "en_criterion={0:\"entropy\",1:'gini'}\n",
    "en_esti={0:50,1:100,2:150,3:200,4:250,5:300,6:350,7:400,8:450,9:500}\n",
    "en_mxfeat ={0: 'auto',1:'sqrt',2:'log2'}\n",
    "\n",
    "print(en_criterion[best['criterion']])\n",
    "print(en_esti[best['n_estimators']])\n",
    "print(en_mxfeat[best['max_features']])"
   ]
  },
  {
   "cell_type": "code",
   "execution_count": null,
   "metadata": {},
   "outputs": [],
   "source": []
  },
  {
   "cell_type": "code",
   "execution_count": 73,
   "metadata": {},
   "outputs": [
    {
     "name": "stdout",
     "output_type": "stream",
     "text": [
      "[[95 12]\n",
      " [14 33]]\n",
      "              precision    recall  f1-score   support\n",
      "\n",
      "           0       0.87      0.89      0.88       107\n",
      "           1       0.73      0.70      0.72        47\n",
      "\n",
      "    accuracy                           0.83       154\n",
      "   macro avg       0.80      0.79      0.80       154\n",
      "weighted avg       0.83      0.83      0.83       154\n",
      "\n",
      "0.8311688311688312\n"
     ]
    }
   ],
   "source": [
    "trained_model=RandomForestClassifier(criterion=en_criterion[best['criterion']],\n",
    "                                     max_depth=best[\"max_depth\"], max_features=en_mxfeat[best['max_features']],\n",
    "                                     min_samples_leaf=best[\"min_samples_leaf\"],\n",
    "                                     min_samples_split=best[\"min_samples_split\"],\n",
    "                                     n_estimators=en_esti[best[\"n_estimators\"]]).fit(x_train,y_train)\n",
    "prediction_y=trained_model.predict(x_test)\n",
    "print(confusion_matrix(y_test,y_prediction))\n",
    "print(classification_report(y_test,y_prediction))\n",
    "print(accuracy_score(y_test,y_prediction))"
   ]
  },
  {
   "cell_type": "markdown",
   "metadata": {},
   "source": [
    "##### Generic Algorithms"
   ]
  },
  {
   "cell_type": "code",
   "execution_count": 14,
   "metadata": {},
   "outputs": [
    {
     "data": {
      "text/plain": [
       "{'n_estimators': [100,\n",
       "  200,\n",
       "  300,\n",
       "  400,\n",
       "  500,\n",
       "  600,\n",
       "  700,\n",
       "  800,\n",
       "  900,\n",
       "  1000,\n",
       "  1100,\n",
       "  1200,\n",
       "  1300,\n",
       "  1400,\n",
       "  1500],\n",
       " 'min_samples_split': [1, 2, 3, 4, 5, 6],\n",
       " 'min_samples_leaf': [2, 3, 5, 6, 7],\n",
       " 'max_features': ['auto', 'sqrt', 'log2'],\n",
       " 'max_depth': [10, 120, 230, 340, 450, 560, 670, 780, 890, 1000],\n",
       " 'criterion': ['entropy', 'gini']}"
      ]
     },
     "execution_count": 14,
     "metadata": {},
     "output_type": "execute_result"
    }
   ],
   "source": [
    "parameters={\"n_estimators\":[100,200,300,400,500,600,700,800,900,1000,1100,1200,1300,1400,1500],\n",
    "             'min_samples_split':[1,2,3,4,5,6],\n",
    "             'min_samples_leaf':[2,3,5,6,7],\n",
    "             'max_features':['auto','sqrt','log2'],\n",
    "             'max_depth':[int(x) for x in np.linspace(start=10,stop=1000,num=10)],\n",
    "             'criterion':[\"entropy\",'gini']\n",
    "}\n",
    "parameters"
   ]
  },
  {
   "cell_type": "code",
   "execution_count": 15,
   "metadata": {},
   "outputs": [
    {
     "data": {
      "application/vnd.jupyter.widget-view+json": {
       "model_id": "",
       "version_major": 2,
       "version_minor": 0
      },
      "text/plain": [
       "HBox(children=(FloatProgress(value=0.0, description='Optimization Progress', max=60.0, style=ProgressStyle(des…"
      ]
     },
     "metadata": {},
     "output_type": "display_data"
    },
    {
     "name": "stdout",
     "output_type": "stream",
     "text": [
      "\n",
      "Generation 1 - Current best internal CV score: 0.760578473813768\n",
      "Generation 2 - Current best internal CV score: 0.760578473813768\n",
      "Generation 3 - Current best internal CV score: 0.760578473813768\n",
      "Generation 4 - Current best internal CV score: 0.760578473813768\n",
      "Best pipeline: RandomForestClassifier(RandomForestClassifier(input_matrix, criterion=gini, max_depth=120, max_features=log2, min_samples_leaf=7, min_samples_split=3, n_estimators=1500), criterion=gini, max_depth=890, max_features=log2, min_samples_leaf=6, min_samples_split=6, n_estimators=1400)\n"
     ]
    },
    {
     "data": {
      "text/plain": [
       "TPOTClassifier(config_dict={'sklearn.ensemble.RandomForestClassifier': {'criterion': ['entropy',\n",
       "                                                                                      'gini'],\n",
       "                                                                        'max_depth': [10,\n",
       "                                                                                      120,\n",
       "                                                                                      230,\n",
       "                                                                                      340,\n",
       "                                                                                      450,\n",
       "                                                                                      560,\n",
       "                                                                                      670,\n",
       "                                                                                      780,\n",
       "                                                                                      890,\n",
       "                                                                                      1000],\n",
       "                                                                        'max_features': ['auto',\n",
       "                                                                                         'sqrt',\n",
       "                                                                                         'log2'],\n",
       "                                                                        'min_samples_leaf': [2,\n",
       "                                                                                             3,\n",
       "                                                                                             5,\n",
       "                                                                                             6,\n",
       "                                                                                             7],\n",
       "                                                                        'min_samples_split': [1,\n",
       "                                                                                              2,\n",
       "                                                                                              3,\n",
       "                                                                                              4,\n",
       "                                                                                              5,\n",
       "                                                                                              6],\n",
       "                                                                        'n_estimators': [100,\n",
       "                                                                                         200,\n",
       "                                                                                         300,\n",
       "                                                                                         400,\n",
       "                                                                                         500,\n",
       "                                                                                         600,\n",
       "                                                                                         700,\n",
       "                                                                                         800,\n",
       "                                                                                         900,\n",
       "                                                                                         1000,\n",
       "                                                                                         1100,\n",
       "                                                                                         1200,\n",
       "                                                                                         1300,\n",
       "                                                                                         1400,\n",
       "                                                                                         1500]}},\n",
       "               cv=4, early_stop=12, generations=4,\n",
       "               log_file=<ipykernel.iostream.OutStream object at 0x000001FC5B3A90D0>,\n",
       "               offspring_size=10, population_size=20, scoring='accuracy',\n",
       "               verbosity=2)"
      ]
     },
     "execution_count": 15,
     "metadata": {},
     "output_type": "execute_result"
    }
   ],
   "source": [
    "from tpot import TPOTClassifier\n",
    "tpot_classif=TPOTClassifier(generations=4,population_size=20,offspring_size=10,\n",
    "                           verbosity=2,early_stop=12,\n",
    "                           config_dict={'sklearn.ensemble.RandomForestClassifier':parameters},\n",
    "                           cv=4, scoring='accuracy')\n",
    "tpot_classif.fit(x_train,y_train)"
   ]
  },
  {
   "cell_type": "code",
   "execution_count": 16,
   "metadata": {},
   "outputs": [
    {
     "data": {
      "text/plain": [
       "0.8506493506493507"
      ]
     },
     "execution_count": 16,
     "metadata": {},
     "output_type": "execute_result"
    }
   ],
   "source": [
    "accuracy=tpot_classif.score(x_test,y_test)\n",
    "accuracy"
   ]
  },
  {
   "cell_type": "markdown",
   "metadata": {},
   "source": [
    "#### Optimize hyperparameters of the model using Optuna"
   ]
  },
  {
   "cell_type": "code",
   "execution_count": 19,
   "metadata": {},
   "outputs": [],
   "source": [
    "import optuna\n",
    "import sklearn.svm\n",
    "def objective(trial):\n",
    "\n",
    "    classifier = trial.suggest_categorical('classifier', ['RandomForest', 'SVC'])\n",
    "    \n",
    "    if classifier == 'RandomForest':\n",
    "        n_estimators = trial.suggest_int('n_estimators', 200, 2000,10)\n",
    "        max_depth = int(trial.suggest_float('max_depth', 10, 100, log=True))\n",
    "\n",
    "        clf = sklearn.ensemble.RandomForestClassifier(\n",
    "            n_estimators=n_estimators, max_depth=max_depth)\n",
    "    else:\n",
    "        c = trial.suggest_float('svc_c', 1e-10, 1e10, log=True)\n",
    "        \n",
    "        clf = sklearn.svm.SVC(C=c, gamma='auto')\n",
    "\n",
    "    return sklearn.model_selection.cross_val_score(\n",
    "        clf,x_train,y_train, n_jobs=-1, cv=3).mean()"
   ]
  },
  {
   "cell_type": "code",
   "execution_count": 22,
   "metadata": {},
   "outputs": [
    {
     "name": "stderr",
     "output_type": "stream",
     "text": [
      "[I 2020-09-17 19:46:27,500] A new study created in memory with name: no-name-bc974162-f357-4139-8430-357edae323d4\n",
      "[I 2020-09-17 19:46:27,571] Trial 0 finished with value: 0.640068547744301 and parameters: {'classifier': 'SVC', 'svc_c': 3.904746679337756}. Best is trial 0 with value: 0.640068547744301.\n",
      "[I 2020-09-17 19:46:33,566] Trial 1 finished with value: 0.7508050374621393 and parameters: {'classifier': 'RandomForest', 'n_estimators': 1350, 'max_depth': 30.103749827551546}. Best is trial 1 with value: 0.7508050374621393.\n",
      "[I 2020-09-17 19:46:35,934] Trial 2 finished with value: 0.7459110473457676 and parameters: {'classifier': 'RandomForest', 'n_estimators': 480, 'max_depth': 33.8992748172616}. Best is trial 1 with value: 0.7508050374621393.\n",
      "[I 2020-09-17 19:46:36,003] Trial 3 finished with value: 0.640068547744301 and parameters: {'classifier': 'SVC', 'svc_c': 16774.039120930855}. Best is trial 1 with value: 0.7508050374621393.\n",
      "[I 2020-09-17 19:46:36,075] Trial 4 finished with value: 0.640068547744301 and parameters: {'classifier': 'SVC', 'svc_c': 9185.12847180358}. Best is trial 1 with value: 0.7508050374621393.\n",
      "[I 2020-09-17 19:46:36,129] Trial 5 finished with value: 0.640068547744301 and parameters: {'classifier': 'SVC', 'svc_c': 1.4125262830452269e-08}. Best is trial 1 with value: 0.7508050374621393.\n",
      "[I 2020-09-17 19:46:37,341] Trial 6 finished with value: 0.7540490993145226 and parameters: {'classifier': 'RandomForest', 'n_estimators': 250, 'max_depth': 67.66573315845511}. Best is trial 6 with value: 0.7540490993145226.\n",
      "[I 2020-09-17 19:46:41,158] Trial 7 finished with value: 0.7491869918699187 and parameters: {'classifier': 'RandomForest', 'n_estimators': 850, 'max_depth': 17.39789877247246}. Best is trial 6 with value: 0.7540490993145226.\n",
      "[I 2020-09-17 19:46:50,050] Trial 8 finished with value: 0.7540650406504065 and parameters: {'classifier': 'RandomForest', 'n_estimators': 1890, 'max_depth': 61.963247600597334}. Best is trial 8 with value: 0.7540650406504065.\n",
      "[I 2020-09-17 19:46:50,134] Trial 9 finished with value: 0.640068547744301 and parameters: {'classifier': 'SVC', 'svc_c': 54372627.51134338}. Best is trial 8 with value: 0.7540650406504065.\n",
      "[I 2020-09-17 19:46:59,649] Trial 10 finished with value: 0.7507970667941973 and parameters: {'classifier': 'RandomForest', 'n_estimators': 1960, 'max_depth': 78.16246608992049}. Best is trial 8 with value: 0.7540650406504065.\n",
      "[I 2020-09-17 19:47:08,462] Trial 11 finished with value: 0.7540650406504065 and parameters: {'classifier': 'RandomForest', 'n_estimators': 1840, 'max_depth': 92.282932929252}. Best is trial 8 with value: 0.7540650406504065.\n",
      "[I 2020-09-17 19:47:17,301] Trial 12 finished with value: 0.7540570699824646 and parameters: {'classifier': 'RandomForest', 'n_estimators': 1920, 'max_depth': 97.58710799135397}. Best is trial 8 with value: 0.7540650406504065.\n",
      "[I 2020-09-17 19:47:24,219] Trial 13 finished with value: 0.7540650406504065 and parameters: {'classifier': 'RandomForest', 'n_estimators': 1530, 'max_depth': 52.93116272222121}. Best is trial 8 with value: 0.7540650406504065.\n",
      "[I 2020-09-17 19:47:32,072] Trial 14 finished with value: 0.7491790212019768 and parameters: {'classifier': 'RandomForest', 'n_estimators': 1720, 'max_depth': 99.08776055354738}. Best is trial 8 with value: 0.7540650406504065.\n",
      "[I 2020-09-17 19:47:41,082] Trial 15 finished with value: 0.7508130081300813 and parameters: {'classifier': 'RandomForest', 'n_estimators': 1990, 'max_depth': 45.03267107534575}. Best is trial 8 with value: 0.7540650406504065.\n",
      "[I 2020-09-17 19:47:45,803] Trial 16 finished with value: 0.7459190180137095 and parameters: {'classifier': 'RandomForest', 'n_estimators': 1080, 'max_depth': 10.18432470166455}. Best is trial 8 with value: 0.7540650406504065.\n",
      "[I 2020-09-17 19:47:52,393] Trial 17 finished with value: 0.7475530049418141 and parameters: {'classifier': 'RandomForest', 'n_estimators': 1440, 'max_depth': 51.43544032803279}. Best is trial 8 with value: 0.7540650406504065.\n",
      "[I 2020-09-17 19:47:59,097] Trial 18 finished with value: 0.7507970667941973 and parameters: {'classifier': 'RandomForest', 'n_estimators': 1430, 'max_depth': 51.01134385409771}. Best is trial 8 with value: 0.7540650406504065.\n",
      "[I 2020-09-17 19:48:07,411] Trial 19 finished with value: 0.7475609756097561 and parameters: {'classifier': 'RandomForest', 'n_estimators': 1770, 'max_depth': 81.40064316121247}. Best is trial 8 with value: 0.7540650406504065.\n",
      "[I 2020-09-17 19:48:14,917] Trial 20 finished with value: 0.7540650406504065 and parameters: {'classifier': 'RandomForest', 'n_estimators': 1680, 'max_depth': 30.826993550895672}. Best is trial 8 with value: 0.7540650406504065.\n",
      "[I 2020-09-17 19:48:22,566] Trial 21 finished with value: 0.7508050374621393 and parameters: {'classifier': 'RandomForest', 'n_estimators': 1610, 'max_depth': 24.180634076531746}. Best is trial 8 with value: 0.7540650406504065.\n",
      "[I 2020-09-17 19:48:32,127] Trial 22 finished with value: 0.7508050374621393 and parameters: {'classifier': 'RandomForest', 'n_estimators': 1990, 'max_depth': 59.96082082531431}. Best is trial 8 with value: 0.7540650406504065.\n",
      "[I 2020-09-17 19:48:39,789] Trial 23 finished with value: 0.7475370636059302 and parameters: {'classifier': 'RandomForest', 'n_estimators': 1590, 'max_depth': 35.97690021665569}. Best is trial 8 with value: 0.7540650406504065.\n",
      "[I 2020-09-17 19:48:48,467] Trial 24 finished with value: 0.7540570699824646 and parameters: {'classifier': 'RandomForest', 'n_estimators': 1810, 'max_depth': 21.32598898603244}. Best is trial 8 with value: 0.7540650406504065.\n",
      "[I 2020-09-17 19:48:54,354] Trial 25 finished with value: 0.7491790212019768 and parameters: {'classifier': 'RandomForest', 'n_estimators': 1180, 'max_depth': 44.03707409099549}. Best is trial 8 with value: 0.7540650406504065.\n",
      "[I 2020-09-17 19:49:02,852] Trial 26 finished with value: 0.7491710505340348 and parameters: {'classifier': 'RandomForest', 'n_estimators': 1760, 'max_depth': 14.39730398396317}. Best is trial 8 with value: 0.7540650406504065.\n",
      "[I 2020-09-17 19:49:10,319] Trial 27 finished with value: 0.7491869918699187 and parameters: {'classifier': 'RandomForest', 'n_estimators': 1550, 'max_depth': 26.842123989205152}. Best is trial 8 with value: 0.7540650406504065.\n",
      "[I 2020-09-17 19:49:16,264] Trial 28 finished with value: 0.7556910569105691 and parameters: {'classifier': 'RandomForest', 'n_estimators': 1230, 'max_depth': 38.83202154734299}. Best is trial 28 with value: 0.7556910569105691.\n",
      "[I 2020-09-17 19:49:16,323] Trial 29 finished with value: 0.640068547744301 and parameters: {'classifier': 'SVC', 'svc_c': 7.906548369969437e-10}. Best is trial 28 with value: 0.7556910569105691.\n",
      "[I 2020-09-17 19:49:20,696] Trial 30 finished with value: 0.7540650406504065 and parameters: {'classifier': 'RandomForest', 'n_estimators': 900, 'max_depth': 18.527730655588073}. Best is trial 28 with value: 0.7556910569105691.\n",
      "[I 2020-09-17 19:49:24,741] Trial 31 finished with value: 0.7475530049418141 and parameters: {'classifier': 'RandomForest', 'n_estimators': 820, 'max_depth': 38.56967574769919}. Best is trial 28 with value: 0.7556910569105691.\n",
      "[I 2020-09-17 19:49:30,035] Trial 32 finished with value: 0.7475609756097561 and parameters: {'classifier': 'RandomForest', 'n_estimators': 1090, 'max_depth': 19.0800439128255}. Best is trial 28 with value: 0.7556910569105691.\n",
      "[I 2020-09-17 19:49:34,016] Trial 33 finished with value: 0.7475530049418141 and parameters: {'classifier': 'RandomForest', 'n_estimators': 820, 'max_depth': 15.329493237009514}. Best is trial 28 with value: 0.7556910569105691.\n",
      "[I 2020-09-17 19:49:40,033] Trial 34 finished with value: 0.7508130081300813 and parameters: {'classifier': 'RandomForest', 'n_estimators': 1240, 'max_depth': 61.11186753978789}. Best is trial 28 with value: 0.7556910569105691.\n",
      "[I 2020-09-17 19:49:46,336] Trial 35 finished with value: 0.744300972421489 and parameters: {'classifier': 'RandomForest', 'n_estimators': 1320, 'max_depth': 30.388686282224764}. Best is trial 28 with value: 0.7556910569105691.\n",
      "[I 2020-09-17 19:49:46,394] Trial 36 finished with value: 0.640068547744301 and parameters: {'classifier': 'SVC', 'svc_c': 3.370620258877675e-05}. Best is trial 28 with value: 0.7556910569105691.\n",
      "[I 2020-09-17 19:49:51,133] Trial 37 finished with value: 0.7459269886816515 and parameters: {'classifier': 'RandomForest', 'n_estimators': 980, 'max_depth': 10.931879225436761}. Best is trial 28 with value: 0.7556910569105691.\n",
      "[I 2020-09-17 19:49:58,391] Trial 38 finished with value: 0.7524469950581859 and parameters: {'classifier': 'RandomForest', 'n_estimators': 1470, 'max_depth': 42.24460091302164}. Best is trial 28 with value: 0.7556910569105691.\n",
      "[I 2020-09-17 19:50:06,200] Trial 39 finished with value: 0.7459190180137095 and parameters: {'classifier': 'RandomForest', 'n_estimators': 1630, 'max_depth': 28.353055019550368}. Best is trial 28 with value: 0.7556910569105691.\n",
      "[I 2020-09-17 19:50:06,285] Trial 40 finished with value: 0.640068547744301 and parameters: {'classifier': 'SVC', 'svc_c': 6400609445.0562}. Best is trial 28 with value: 0.7556910569105691.\n",
      "[I 2020-09-17 19:50:09,110] Trial 41 finished with value: 0.744293001753547 and parameters: {'classifier': 'RandomForest', 'n_estimators': 580, 'max_depth': 35.01238644675764}. Best is trial 28 with value: 0.7556910569105691.\n",
      "[I 2020-09-17 19:50:12,316] Trial 42 finished with value: 0.7459190180137095 and parameters: {'classifier': 'RandomForest', 'n_estimators': 660, 'max_depth': 51.530546093405825}. Best is trial 28 with value: 0.7556910569105691.\n",
      "[I 2020-09-17 19:50:16,667] Trial 43 finished with value: 0.744285031085605 and parameters: {'classifier': 'RandomForest', 'n_estimators': 910, 'max_depth': 63.498520607378374}. Best is trial 28 with value: 0.7556910569105691.\n",
      "[I 2020-09-17 19:50:23,148] Trial 44 finished with value: 0.755699027578511 and parameters: {'classifier': 'RandomForest', 'n_estimators': 1330, 'max_depth': 75.37220417666921}. Best is trial 44 with value: 0.755699027578511.\n",
      "[I 2020-09-17 19:50:29,047] Trial 45 finished with value: 0.7491869918699187 and parameters: {'classifier': 'RandomForest', 'n_estimators': 1230, 'max_depth': 74.10847872053841}. Best is trial 44 with value: 0.755699027578511.\n",
      "[I 2020-09-17 19:50:35,358] Trial 46 finished with value: 0.7491790212019768 and parameters: {'classifier': 'RandomForest', 'n_estimators': 1300, 'max_depth': 85.21654883726188}. Best is trial 44 with value: 0.755699027578511.\n",
      "[I 2020-09-17 19:50:40,114] Trial 47 finished with value: 0.7524390243902439 and parameters: {'classifier': 'RandomForest', 'n_estimators': 990, 'max_depth': 71.45744640756973}. Best is trial 44 with value: 0.755699027578511.\n",
      "[I 2020-09-17 19:50:41,513] Trial 48 finished with value: 0.7540650406504065 and parameters: {'classifier': 'RandomForest', 'n_estimators': 280, 'max_depth': 24.36995658382258}. Best is trial 44 with value: 0.755699027578511.\n",
      "[I 2020-09-17 19:50:42,733] Trial 49 finished with value: 0.7556751155746851 and parameters: {'classifier': 'RandomForest', 'n_estimators': 240, 'max_depth': 23.389559326942802}. Best is trial 44 with value: 0.755699027578511.\n",
      "[I 2020-09-17 19:50:42,789] Trial 50 finished with value: 0.640068547744301 and parameters: {'classifier': 'SVC', 'svc_c': 0.0001934607941124811}. Best is trial 44 with value: 0.755699027578511.\n",
      "[I 2020-09-17 19:50:44,698] Trial 51 finished with value: 0.7459110473457676 and parameters: {'classifier': 'RandomForest', 'n_estimators': 380, 'max_depth': 20.798032868967134}. Best is trial 44 with value: 0.755699027578511.\n",
      "[I 2020-09-17 19:50:45,766] Trial 52 finished with value: 0.75242308305436 and parameters: {'classifier': 'RandomForest', 'n_estimators': 210, 'max_depth': 24.485793530558286}. Best is trial 44 with value: 0.755699027578511.\n",
      "[I 2020-09-17 19:50:47,579] Trial 53 finished with value: 0.75242308305436 and parameters: {'classifier': 'RandomForest', 'n_estimators': 370, 'max_depth': 15.932751884018264}. Best is trial 44 with value: 0.755699027578511.\n",
      "[I 2020-09-17 19:50:49,042] Trial 54 finished with value: 0.7491710505340348 and parameters: {'classifier': 'RandomForest', 'n_estimators': 290, 'max_depth': 12.950538668283249}. Best is trial 44 with value: 0.755699027578511.\n",
      "[I 2020-09-17 19:50:55,730] Trial 55 finished with value: 0.7491869918699187 and parameters: {'classifier': 'RandomForest', 'n_estimators': 1380, 'max_depth': 56.9792827009909}. Best is trial 44 with value: 0.755699027578511.\n",
      "[I 2020-09-17 19:50:59,246] Trial 56 finished with value: 0.7426590148254424 and parameters: {'classifier': 'RandomForest', 'n_estimators': 700, 'max_depth': 24.489107273107823}. Best is trial 44 with value: 0.755699027578511.\n",
      "[I 2020-09-17 19:51:01,627] Trial 57 finished with value: 0.7540490993145226 and parameters: {'classifier': 'RandomForest', 'n_estimators': 490, 'max_depth': 18.878575254947965}. Best is trial 44 with value: 0.755699027578511.\n",
      "[I 2020-09-17 19:51:03,074] Trial 58 finished with value: 0.7507970667941973 and parameters: {'classifier': 'RandomForest', 'n_estimators': 280, 'max_depth': 31.660750224030863}. Best is trial 44 with value: 0.755699027578511.\n",
      "[I 2020-09-17 19:51:11,105] Trial 59 finished with value: 0.7508130081300813 and parameters: {'classifier': 'RandomForest', 'n_estimators': 1680, 'max_depth': 21.435643759154644}. Best is trial 44 with value: 0.755699027578511.\n",
      "[I 2020-09-17 19:51:16,825] Trial 60 finished with value: 0.7507970667941973 and parameters: {'classifier': 'RandomForest', 'n_estimators': 1170, 'max_depth': 39.182577068613575}. Best is trial 44 with value: 0.755699027578511.\n",
      "[I 2020-09-17 19:51:24,194] Trial 61 finished with value: 0.7556910569105691 and parameters: {'classifier': 'RandomForest', 'n_estimators': 1510, 'max_depth': 23.111895740600367}. Best is trial 44 with value: 0.755699027578511.\n",
      "[I 2020-09-17 19:51:31,440] Trial 62 finished with value: 0.7491790212019768 and parameters: {'classifier': 'RandomForest', 'n_estimators': 1490, 'max_depth': 28.131356381817668}. Best is trial 44 with value: 0.755699027578511.\n",
      "[I 2020-09-17 19:51:38,899] Trial 63 finished with value: 0.7475530049418141 and parameters: {'classifier': 'RandomForest', 'n_estimators': 1540, 'max_depth': 22.815334493647594}. Best is trial 44 with value: 0.755699027578511.\n",
      "[I 2020-09-17 19:51:45,430] Trial 64 finished with value: 0.7573170731707317 and parameters: {'classifier': 'RandomForest', 'n_estimators': 1370, 'max_depth': 20.024156817566237}. Best is trial 64 with value: 0.7573170731707317.\n",
      "[I 2020-09-17 19:51:52,307] Trial 65 finished with value: 0.7540570699824646 and parameters: {'classifier': 'RandomForest', 'n_estimators': 1410, 'max_depth': 18.340111523338205}. Best is trial 64 with value: 0.7573170731707317.\n",
      "[I 2020-09-17 19:51:58,623] Trial 66 finished with value: 0.7475609756097561 and parameters: {'classifier': 'RandomForest', 'n_estimators': 1310, 'max_depth': 26.55450206291609}. Best is trial 64 with value: 0.7573170731707317.\n",
      "[I 2020-09-17 19:52:04,310] Trial 67 finished with value: 0.7508050374621393 and parameters: {'classifier': 'RandomForest', 'n_estimators': 1160, 'max_depth': 32.67570218115763}. Best is trial 64 with value: 0.7573170731707317.\n",
      "[I 2020-09-17 19:52:12,299] Trial 68 finished with value: 0.7491790212019768 and parameters: {'classifier': 'RandomForest', 'n_estimators': 1670, 'max_depth': 16.632284368785243}. Best is trial 64 with value: 0.7573170731707317.\n",
      "[I 2020-09-17 19:52:21,135] Trial 69 finished with value: 0.7475530049418141 and parameters: {'classifier': 'RandomForest', 'n_estimators': 1850, 'max_depth': 96.57856525576243}. Best is trial 64 with value: 0.7573170731707317.\n",
      "[I 2020-09-17 19:52:27,863] Trial 70 finished with value: 0.7524390243902439 and parameters: {'classifier': 'RandomForest', 'n_estimators': 1370, 'max_depth': 19.873425989176273}. Best is trial 64 with value: 0.7573170731707317.\n",
      "[I 2020-09-17 19:52:33,979] Trial 71 finished with value: 0.7556910569105691 and parameters: {'classifier': 'RandomForest', 'n_estimators': 1250, 'max_depth': 22.708097708369575}. Best is trial 64 with value: 0.7573170731707317.\n",
      "[I 2020-09-17 19:52:40,363] Trial 72 finished with value: 0.7508050374621393 and parameters: {'classifier': 'RandomForest', 'n_estimators': 1240, 'max_depth': 17.556891596689013}. Best is trial 64 with value: 0.7573170731707317.\n",
      "[I 2020-09-17 19:52:45,920] Trial 73 finished with value: 0.7459110473457676 and parameters: {'classifier': 'RandomForest', 'n_estimators': 1120, 'max_depth': 22.790747510679356}. Best is trial 64 with value: 0.7573170731707317.\n",
      "[I 2020-09-17 19:52:53,016] Trial 74 finished with value: 0.7540570699824646 and parameters: {'classifier': 'RandomForest', 'n_estimators': 1480, 'max_depth': 13.832435985223473}. Best is trial 64 with value: 0.7573170731707317.\n",
      "[I 2020-09-17 19:52:59,141] Trial 75 finished with value: 0.7524310537223019 and parameters: {'classifier': 'RandomForest', 'n_estimators': 1270, 'max_depth': 26.36585281979455}. Best is trial 64 with value: 0.7573170731707317.\n",
      "[I 2020-09-17 19:53:04,532] Trial 76 finished with value: 0.7475450342738722 and parameters: {'classifier': 'RandomForest', 'n_estimators': 1020, 'max_depth': 22.49883087167786}. Best is trial 64 with value: 0.7573170731707317.\n",
      "[I 2020-09-17 19:53:04,600] Trial 77 finished with value: 0.640068547744301 and parameters: {'classifier': 'SVC', 'svc_c': 0.0016496756334471406}. Best is trial 64 with value: 0.7573170731707317.\n",
      "[I 2020-09-17 19:53:11,013] Trial 78 finished with value: 0.7524390243902439 and parameters: {'classifier': 'RandomForest', 'n_estimators': 1340, 'max_depth': 20.581371905465623}. Best is trial 64 with value: 0.7573170731707317.\n",
      "[I 2020-09-17 19:53:18,428] Trial 79 finished with value: 0.7459110473457676 and parameters: {'classifier': 'RandomForest', 'n_estimators': 1530, 'max_depth': 89.02368246776419}. Best is trial 64 with value: 0.7573170731707317.\n",
      "[I 2020-09-17 19:53:25,128] Trial 80 finished with value: 0.7524310537223019 and parameters: {'classifier': 'RandomForest', 'n_estimators': 1410, 'max_depth': 25.13969979446444}. Best is trial 64 with value: 0.7573170731707317.\n",
      "[I 2020-09-17 19:53:30,988] Trial 81 finished with value: 0.7459269886816515 and parameters: {'classifier': 'RandomForest', 'n_estimators': 1200, 'max_depth': 22.778047038383523}. Best is trial 64 with value: 0.7573170731707317.\n",
      "[I 2020-09-17 19:53:40,043] Trial 82 finished with value: 0.7508050374621393 and parameters: {'classifier': 'RandomForest', 'n_estimators': 1890, 'max_depth': 66.34074263670425}. Best is trial 64 with value: 0.7573170731707317.\n",
      "[I 2020-09-17 19:53:47,783] Trial 83 finished with value: 0.7475290929379882 and parameters: {'classifier': 'RandomForest', 'n_estimators': 1620, 'max_depth': 28.00293612662089}. Best is trial 64 with value: 0.7573170731707317.\n",
      "[I 2020-09-17 19:53:56,357] Trial 84 finished with value: 0.7491869918699187 and parameters: {'classifier': 'RandomForest', 'n_estimators': 1790, 'max_depth': 17.061509322420186}. Best is trial 64 with value: 0.7573170731707317.\n",
      "[I 2020-09-17 19:54:02,902] Trial 85 finished with value: 0.7393990116371753 and parameters: {'classifier': 'RandomForest', 'n_estimators': 1360, 'max_depth': 54.8920511894819}. Best is trial 64 with value: 0.7573170731707317.\n",
      "[I 2020-09-17 19:54:10,326] Trial 86 finished with value: 0.7524390243902439 and parameters: {'classifier': 'RandomForest', 'n_estimators': 1560, 'max_depth': 45.99217446796476}. Best is trial 64 with value: 0.7573170731707317.\n",
      "[I 2020-09-17 19:54:17,297] Trial 87 finished with value: 0.7491790212019768 and parameters: {'classifier': 'RandomForest', 'n_estimators': 1460, 'max_depth': 19.798514347016386}. Best is trial 64 with value: 0.7573170731707317.\n",
      "[I 2020-09-17 19:54:25,660] Trial 88 finished with value: 0.7459190180137095 and parameters: {'classifier': 'RandomForest', 'n_estimators': 1740, 'max_depth': 30.11193312745887}. Best is trial 64 with value: 0.7573170731707317.\n",
      "[I 2020-09-17 19:54:31,079] Trial 89 finished with value: 0.7540570699824646 and parameters: {'classifier': 'RandomForest', 'n_estimators': 1110, 'max_depth': 79.36519604329204}. Best is trial 64 with value: 0.7573170731707317.\n",
      "[I 2020-09-17 19:54:31,163] Trial 90 finished with value: 0.640068547744301 and parameters: {'classifier': 'SVC', 'svc_c': 613123.2791846746}. Best is trial 64 with value: 0.7573170731707317.\n",
      "[I 2020-09-17 19:54:37,330] Trial 91 finished with value: 0.7459110473457676 and parameters: {'classifier': 'RandomForest', 'n_estimators': 1290, 'max_depth': 37.820217810708876}. Best is trial 64 with value: 0.7573170731707317.\n",
      "[I 2020-09-17 19:54:46,194] Trial 92 finished with value: 0.7459269886816515 and parameters: {'classifier': 'RandomForest', 'n_estimators': 1940, 'max_depth': 94.37423465452528}. Best is trial 64 with value: 0.7573170731707317.\n",
      "[I 2020-09-17 19:54:54,518] Trial 93 finished with value: 0.7491790212019768 and parameters: {'classifier': 'RandomForest', 'n_estimators': 1840, 'max_depth': 46.979890009935936}. Best is trial 64 with value: 0.7573170731707317.\n",
      "[I 2020-09-17 19:54:56,192] Trial 94 finished with value: 0.7377809660449546 and parameters: {'classifier': 'RandomForest', 'n_estimators': 360, 'max_depth': 21.69388619436064}. Best is trial 64 with value: 0.7573170731707317.\n",
      "[I 2020-09-17 19:55:04,255] Trial 95 finished with value: 0.7508050374621393 and parameters: {'classifier': 'RandomForest', 'n_estimators': 1710, 'max_depth': 25.40978674021646}. Best is trial 64 with value: 0.7573170731707317.\n",
      "[I 2020-09-17 19:55:05,260] Trial 96 finished with value: 0.7491551091981509 and parameters: {'classifier': 'RandomForest', 'n_estimators': 200, 'max_depth': 33.850864790625494}. Best is trial 64 with value: 0.7573170731707317.\n",
      "[I 2020-09-17 19:55:12,497] Trial 97 finished with value: 0.7556830862426271 and parameters: {'classifier': 'RandomForest', 'n_estimators': 1510, 'max_depth': 73.64357890418228}. Best is trial 64 with value: 0.7573170731707317.\n",
      "[I 2020-09-17 19:55:20,123] Trial 98 finished with value: 0.7491710505340348 and parameters: {'classifier': 'RandomForest', 'n_estimators': 1580, 'max_depth': 17.86204362552456}. Best is trial 64 with value: 0.7573170731707317.\n",
      "[I 2020-09-17 19:55:27,039] Trial 99 finished with value: 0.7491790212019768 and parameters: {'classifier': 'RandomForest', 'n_estimators': 1420, 'max_depth': 72.64863649194815}. Best is trial 64 with value: 0.7573170731707317.\n"
     ]
    },
    {
     "name": "stdout",
     "output_type": "stream",
     "text": [
      "Accuracy: 0.7573170731707317\n",
      "Best hyperparameters: {'classifier': 'RandomForest', 'n_estimators': 1370, 'max_depth': 20.024156817566237}\n"
     ]
    }
   ],
   "source": [
    "study = optuna.create_study(direction='maximize')\n",
    "study.optimize(objective, n_trials=100)\n",
    "\n",
    "trial = study.best_trial\n",
    "\n",
    "print('Accuracy: {}'.format(trial.value))\n",
    "print(\"Best hyperparameters: {}\".format(trial.params))"
   ]
  },
  {
   "cell_type": "code",
   "execution_count": 24,
   "metadata": {},
   "outputs": [
    {
     "data": {
      "text/plain": [
       "FrozenTrial(number=64, value=0.7573170731707317, datetime_start=datetime.datetime(2020, 9, 17, 19, 51, 38, 906438), datetime_complete=datetime.datetime(2020, 9, 17, 19, 51, 45, 429557), params={'classifier': 'RandomForest', 'n_estimators': 1370, 'max_depth': 20.024156817566237}, distributions={'classifier': CategoricalDistribution(choices=('RandomForest', 'SVC')), 'n_estimators': IntUniformDistribution(high=2000, low=200, step=10), 'max_depth': LogUniformDistribution(high=100, low=10)}, user_attrs={}, system_attrs={}, intermediate_values={}, trial_id=64, state=TrialState.COMPLETE)"
      ]
     },
     "execution_count": 24,
     "metadata": {},
     "output_type": "execute_result"
    }
   ],
   "source": [
    "trial"
   ]
  },
  {
   "cell_type": "code",
   "execution_count": 25,
   "metadata": {},
   "outputs": [
    {
     "data": {
      "text/plain": [
       "{'classifier': 'RandomForest',\n",
       " 'n_estimators': 1370,\n",
       " 'max_depth': 20.024156817566237}"
      ]
     },
     "execution_count": 25,
     "metadata": {},
     "output_type": "execute_result"
    }
   ],
   "source": [
    "study.best_params"
   ]
  },
  {
   "cell_type": "code",
   "execution_count": 28,
   "metadata": {},
   "outputs": [
    {
     "data": {
      "text/plain": [
       "RandomForestClassifier(max_depth=20, n_estimators=1370)"
      ]
     },
     "execution_count": 28,
     "metadata": {},
     "output_type": "execute_result"
    }
   ],
   "source": [
    "from sklearn.ensemble import RandomForestClassifier \n",
    "rf=RandomForestClassifier(n_estimators=1370,max_depth=20)\n",
    "rf.fit(x_train,y_train)"
   ]
  },
  {
   "cell_type": "code",
   "execution_count": 30,
   "metadata": {},
   "outputs": [
    {
     "name": "stdout",
     "output_type": "stream",
     "text": [
      "[[95 12]\n",
      " [15 32]]\n",
      "0.8246753246753247\n",
      "              precision    recall  f1-score   support\n",
      "\n",
      "           0       0.86      0.89      0.88       107\n",
      "           1       0.73      0.68      0.70        47\n",
      "\n",
      "    accuracy                           0.82       154\n",
      "   macro avg       0.80      0.78      0.79       154\n",
      "weighted avg       0.82      0.82      0.82       154\n",
      "\n"
     ]
    }
   ],
   "source": [
    "from sklearn.metrics import confusion_matrix,accuracy_score,classification_report\n",
    "\n",
    "y_pred=rf.predict(x_test)\n",
    "print(confusion_matrix(y_test,y_pred))\n",
    "print(accuracy_score(y_test,y_pred))\n",
    "print(classification_report(y_test,y_pred))"
   ]
  },
  {
   "cell_type": "code",
   "execution_count": null,
   "metadata": {},
   "outputs": [],
   "source": []
  }
 ],
 "metadata": {
  "kernelspec": {
   "display_name": "Python 3",
   "language": "python",
   "name": "python3"
  },
  "language_info": {
   "codemirror_mode": {
    "name": "ipython",
    "version": 3
   },
   "file_extension": ".py",
   "mimetype": "text/x-python",
   "name": "python",
   "nbconvert_exporter": "python",
   "pygments_lexer": "ipython3",
   "version": "3.8.3"
  }
 },
 "nbformat": 4,
 "nbformat_minor": 4
}
